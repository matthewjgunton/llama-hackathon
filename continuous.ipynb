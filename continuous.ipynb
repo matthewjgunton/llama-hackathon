{
 "cells": [
  {
   "cell_type": "code",
   "execution_count": 1,
   "metadata": {},
   "outputs": [
    {
     "name": "stdout",
     "output_type": "stream",
     "text": [
      "Requirement already satisfied: annotated-types==0.7.0 in ./.venv/lib/python3.12/site-packages (from -r requirements.txt (line 1)) (0.7.0)\n",
      "Requirement already satisfied: anyio==4.6.2.post1 in ./.venv/lib/python3.12/site-packages (from -r requirements.txt (line 2)) (4.6.2.post1)\n",
      "Requirement already satisfied: appnope==0.1.4 in ./.venv/lib/python3.12/site-packages (from -r requirements.txt (line 3)) (0.1.4)\n",
      "Requirement already satisfied: asttokens==2.4.1 in ./.venv/lib/python3.12/site-packages (from -r requirements.txt (line 4)) (2.4.1)\n",
      "Requirement already satisfied: blinker==1.9.0 in ./.venv/lib/python3.12/site-packages (from -r requirements.txt (line 5)) (1.9.0)\n",
      "Requirement already satisfied: blobfile==3.0.0 in ./.venv/lib/python3.12/site-packages (from -r requirements.txt (line 6)) (3.0.0)\n",
      "Requirement already satisfied: certifi==2024.8.30 in ./.venv/lib/python3.12/site-packages (from -r requirements.txt (line 7)) (2024.8.30)\n",
      "Requirement already satisfied: cffi==1.17.1 in ./.venv/lib/python3.12/site-packages (from -r requirements.txt (line 8)) (1.17.1)\n",
      "Requirement already satisfied: charset-normalizer==3.4.0 in ./.venv/lib/python3.12/site-packages (from -r requirements.txt (line 9)) (3.4.0)\n",
      "Requirement already satisfied: click==8.1.7 in ./.venv/lib/python3.12/site-packages (from -r requirements.txt (line 10)) (8.1.7)\n",
      "Requirement already satisfied: colorama==0.4.6 in ./.venv/lib/python3.12/site-packages (from -r requirements.txt (line 11)) (0.4.6)\n",
      "Requirement already satisfied: comm==0.2.2 in ./.venv/lib/python3.12/site-packages (from -r requirements.txt (line 12)) (0.2.2)\n",
      "Requirement already satisfied: debugpy==1.8.9 in ./.venv/lib/python3.12/site-packages (from -r requirements.txt (line 13)) (1.8.9)\n",
      "Requirement already satisfied: decorator==5.1.1 in ./.venv/lib/python3.12/site-packages (from -r requirements.txt (line 14)) (5.1.1)\n",
      "Requirement already satisfied: executing==2.1.0 in ./.venv/lib/python3.12/site-packages (from -r requirements.txt (line 15)) (2.1.0)\n",
      "Requirement already satisfied: filelock==3.16.1 in ./.venv/lib/python3.12/site-packages (from -r requirements.txt (line 16)) (3.16.1)\n",
      "Requirement already satisfied: Flask==3.1.0 in ./.venv/lib/python3.12/site-packages (from -r requirements.txt (line 17)) (3.1.0)\n",
      "Requirement already satisfied: fsspec==2024.10.0 in ./.venv/lib/python3.12/site-packages (from -r requirements.txt (line 18)) (2024.10.0)\n",
      "Requirement already satisfied: h11==0.14.0 in ./.venv/lib/python3.12/site-packages (from -r requirements.txt (line 19)) (0.14.0)\n",
      "Requirement already satisfied: httpcore==1.0.7 in ./.venv/lib/python3.12/site-packages (from -r requirements.txt (line 20)) (1.0.7)\n",
      "Requirement already satisfied: httpx==0.27.2 in ./.venv/lib/python3.12/site-packages (from -r requirements.txt (line 21)) (0.27.2)\n",
      "Requirement already satisfied: huggingface-hub==0.26.2 in ./.venv/lib/python3.12/site-packages (from -r requirements.txt (line 22)) (0.26.2)\n",
      "Requirement already satisfied: idna==3.10 in ./.venv/lib/python3.12/site-packages (from -r requirements.txt (line 23)) (3.10)\n",
      "Requirement already satisfied: ipykernel==6.29.5 in ./.venv/lib/python3.12/site-packages (from -r requirements.txt (line 24)) (6.29.5)\n",
      "Requirement already satisfied: ipython==8.29.0 in ./.venv/lib/python3.12/site-packages (from -r requirements.txt (line 25)) (8.29.0)\n",
      "Requirement already satisfied: ipywidgets==8.1.5 in ./.venv/lib/python3.12/site-packages (from -r requirements.txt (line 26)) (8.1.5)\n",
      "Requirement already satisfied: itsdangerous==2.2.0 in ./.venv/lib/python3.12/site-packages (from -r requirements.txt (line 27)) (2.2.0)\n",
      "Requirement already satisfied: jedi==0.19.2 in ./.venv/lib/python3.12/site-packages (from -r requirements.txt (line 28)) (0.19.2)\n",
      "Requirement already satisfied: Jinja2==3.1.4 in ./.venv/lib/python3.12/site-packages (from -r requirements.txt (line 29)) (3.1.4)\n",
      "Requirement already satisfied: jupyter_client==8.6.3 in ./.venv/lib/python3.12/site-packages (from -r requirements.txt (line 30)) (8.6.3)\n",
      "Requirement already satisfied: jupyter_core==5.7.2 in ./.venv/lib/python3.12/site-packages (from -r requirements.txt (line 31)) (5.7.2)\n",
      "Requirement already satisfied: jupyterlab_widgets==3.0.13 in ./.venv/lib/python3.12/site-packages (from -r requirements.txt (line 32)) (3.0.13)\n",
      "Requirement already satisfied: lxml==5.3.0 in ./.venv/lib/python3.12/site-packages (from -r requirements.txt (line 33)) (5.3.0)\n",
      "Requirement already satisfied: MarkupSafe==3.0.2 in ./.venv/lib/python3.12/site-packages (from -r requirements.txt (line 34)) (3.0.2)\n",
      "Requirement already satisfied: matplotlib-inline==0.1.7 in ./.venv/lib/python3.12/site-packages (from -r requirements.txt (line 35)) (0.1.7)\n",
      "Requirement already satisfied: mlx==0.21.0 in ./.venv/lib/python3.12/site-packages (from -r requirements.txt (line 36)) (0.21.0)\n",
      "Requirement already satisfied: mlx-lm==0.19.3 in ./.venv/lib/python3.12/site-packages (from -r requirements.txt (line 37)) (0.19.3)\n",
      "Requirement already satisfied: mpmath==1.3.0 in ./.venv/lib/python3.12/site-packages (from -r requirements.txt (line 38)) (1.3.0)\n",
      "Requirement already satisfied: nest-asyncio==1.6.0 in ./.venv/lib/python3.12/site-packages (from -r requirements.txt (line 39)) (1.6.0)\n",
      "Requirement already satisfied: networkx==3.4.2 in ./.venv/lib/python3.12/site-packages (from -r requirements.txt (line 40)) (3.4.2)\n",
      "Requirement already satisfied: numpy==2.1.3 in ./.venv/lib/python3.12/site-packages (from -r requirements.txt (line 41)) (2.1.3)\n",
      "Requirement already satisfied: packaging==24.2 in ./.venv/lib/python3.12/site-packages (from -r requirements.txt (line 42)) (24.2)\n",
      "Requirement already satisfied: parso==0.8.4 in ./.venv/lib/python3.12/site-packages (from -r requirements.txt (line 43)) (0.8.4)\n",
      "Requirement already satisfied: pexpect==4.9.0 in ./.venv/lib/python3.12/site-packages (from -r requirements.txt (line 44)) (4.9.0)\n",
      "Requirement already satisfied: platformdirs==4.3.6 in ./.venv/lib/python3.12/site-packages (from -r requirements.txt (line 45)) (4.3.6)\n",
      "Requirement already satisfied: prompt_toolkit==3.0.48 in ./.venv/lib/python3.12/site-packages (from -r requirements.txt (line 46)) (3.0.48)\n",
      "Requirement already satisfied: protobuf==5.28.3 in ./.venv/lib/python3.12/site-packages (from -r requirements.txt (line 47)) (5.28.3)\n",
      "Requirement already satisfied: psutil==6.1.0 in ./.venv/lib/python3.12/site-packages (from -r requirements.txt (line 48)) (6.1.0)\n",
      "Requirement already satisfied: ptyprocess==0.7.0 in ./.venv/lib/python3.12/site-packages (from -r requirements.txt (line 49)) (0.7.0)\n",
      "Requirement already satisfied: pure_eval==0.2.3 in ./.venv/lib/python3.12/site-packages (from -r requirements.txt (line 50)) (0.2.3)\n",
      "Requirement already satisfied: pycparser==2.22 in ./.venv/lib/python3.12/site-packages (from -r requirements.txt (line 51)) (2.22)\n",
      "Requirement already satisfied: pycryptodomex==3.21.0 in ./.venv/lib/python3.12/site-packages (from -r requirements.txt (line 52)) (3.21.0)\n",
      "Requirement already satisfied: pydantic==2.10.1 in ./.venv/lib/python3.12/site-packages (from -r requirements.txt (line 53)) (2.10.1)\n",
      "Requirement already satisfied: pydantic_core==2.27.1 in ./.venv/lib/python3.12/site-packages (from -r requirements.txt (line 54)) (2.27.1)\n",
      "Requirement already satisfied: Pygments==2.18.0 in ./.venv/lib/python3.12/site-packages (from -r requirements.txt (line 55)) (2.18.0)\n",
      "Requirement already satisfied: python-dateutil==2.9.0.post0 in ./.venv/lib/python3.12/site-packages (from -r requirements.txt (line 56)) (2.9.0.post0)\n",
      "Requirement already satisfied: PyYAML==6.0.2 in ./.venv/lib/python3.12/site-packages (from -r requirements.txt (line 57)) (6.0.2)\n",
      "Requirement already satisfied: pyzmq==26.2.0 in ./.venv/lib/python3.12/site-packages (from -r requirements.txt (line 58)) (26.2.0)\n",
      "Requirement already satisfied: regex==2024.11.6 in ./.venv/lib/python3.12/site-packages (from -r requirements.txt (line 59)) (2024.11.6)\n",
      "Requirement already satisfied: replicate==1.0.3 in ./.venv/lib/python3.12/site-packages (from -r requirements.txt (line 60)) (1.0.3)\n",
      "Requirement already satisfied: requests==2.32.3 in ./.venv/lib/python3.12/site-packages (from -r requirements.txt (line 61)) (2.32.3)\n",
      "Requirement already satisfied: safetensors==0.4.5 in ./.venv/lib/python3.12/site-packages (from -r requirements.txt (line 62)) (0.4.5)\n",
      "Requirement already satisfied: sentencepiece==0.2.0 in ./.venv/lib/python3.12/site-packages (from -r requirements.txt (line 63)) (0.2.0)\n",
      "Requirement already satisfied: setuptools==75.6.0 in ./.venv/lib/python3.12/site-packages (from -r requirements.txt (line 64)) (75.6.0)\n",
      "Requirement already satisfied: six==1.16.0 in ./.venv/lib/python3.12/site-packages (from -r requirements.txt (line 65)) (1.16.0)\n",
      "Requirement already satisfied: sniffio==1.3.1 in ./.venv/lib/python3.12/site-packages (from -r requirements.txt (line 66)) (1.3.1)\n",
      "Requirement already satisfied: sounddevice==0.5.1 in ./.venv/lib/python3.12/site-packages (from -r requirements.txt (line 67)) (0.5.1)\n",
      "Requirement already satisfied: soundfile==0.12.1 in ./.venv/lib/python3.12/site-packages (from -r requirements.txt (line 68)) (0.12.1)\n",
      "Requirement already satisfied: stack-data==0.6.3 in ./.venv/lib/python3.12/site-packages (from -r requirements.txt (line 69)) (0.6.3)\n",
      "Requirement already satisfied: sympy==1.13.1 in ./.venv/lib/python3.12/site-packages (from -r requirements.txt (line 70)) (1.13.1)\n",
      "Requirement already satisfied: tiktoken==0.8.0 in ./.venv/lib/python3.12/site-packages (from -r requirements.txt (line 71)) (0.8.0)\n",
      "Requirement already satisfied: tokenizers==0.20.3 in ./.venv/lib/python3.12/site-packages (from -r requirements.txt (line 72)) (0.20.3)\n",
      "Requirement already satisfied: torch==2.5.1 in ./.venv/lib/python3.12/site-packages (from -r requirements.txt (line 73)) (2.5.1)\n",
      "Requirement already satisfied: torchaudio==2.5.1 in ./.venv/lib/python3.12/site-packages (from -r requirements.txt (line 74)) (2.5.1)\n",
      "Requirement already satisfied: tornado==6.4.2 in ./.venv/lib/python3.12/site-packages (from -r requirements.txt (line 75)) (6.4.2)\n",
      "Requirement already satisfied: tqdm==4.67.0 in ./.venv/lib/python3.12/site-packages (from -r requirements.txt (line 76)) (4.67.0)\n",
      "Requirement already satisfied: traitlets==5.14.3 in ./.venv/lib/python3.12/site-packages (from -r requirements.txt (line 77)) (5.14.3)\n",
      "Requirement already satisfied: transformers==4.46.3 in ./.venv/lib/python3.12/site-packages (from -r requirements.txt (line 78)) (4.46.3)\n",
      "Requirement already satisfied: typing_extensions==4.12.2 in ./.venv/lib/python3.12/site-packages (from -r requirements.txt (line 79)) (4.12.2)\n",
      "Requirement already satisfied: urllib3==2.2.3 in ./.venv/lib/python3.12/site-packages (from -r requirements.txt (line 80)) (2.2.3)\n",
      "Requirement already satisfied: wcwidth==0.2.13 in ./.venv/lib/python3.12/site-packages (from -r requirements.txt (line 81)) (0.2.13)\n",
      "Requirement already satisfied: Werkzeug==3.1.3 in ./.venv/lib/python3.12/site-packages (from -r requirements.txt (line 82)) (3.1.3)\n",
      "Requirement already satisfied: widgetsnbextension==4.0.13 in ./.venv/lib/python3.12/site-packages (from -r requirements.txt (line 83)) (4.0.13)\n",
      "Note: you may need to restart the kernel to use updated packages.\n"
     ]
    }
   ],
   "source": [
    "%pip install -r requirements.txt"
   ]
  },
  {
   "cell_type": "code",
   "execution_count": 2,
   "metadata": {},
   "outputs": [],
   "source": [
    "import sounddevice as sd\n",
    "import soundfile as sf\n",
    "import torch\n",
    "import numpy as np\n",
    "import time\n",
    "from transformers import AutoProcessor, SeamlessM4Tv2Model, pipeline\n",
    "from threading import Thread\n",
    "from queue import Queue\n",
    "import warnings\n",
    "warnings.filterwarnings(\"ignore\")\n",
    "\n",
    "import replicate"
   ]
  },
  {
   "cell_type": "code",
   "execution_count": null,
   "metadata": {},
   "outputs": [],
   "source": [
    "class ContinuousTranslator:\n",
    "    def __init__(self, target_language=\"spa\", chunk_duration=5, sample_rate=16000):\n",
    "        self.chunk_duration = chunk_duration\n",
    "        self.sample_rate = sample_rate\n",
    "        self.target_language = target_language\n",
    "        self.is_running = False\n",
    "        self.audio_queue = Queue()\n",
    "        self.transcript = \"\"\n",
    "        \n",
    "        # Initialize ML models\n",
    "        print(\"Loading ML models...\")\n",
    "        self.processor = AutoProcessor.from_pretrained(\"facebook/seamless-m4t-v2-large\")\n",
    "        self.model = SeamlessM4Tv2Model.from_pretrained(\"facebook/seamless-m4t-v2-large\")\n",
    "        print(\"Models loaded!\")\n",
    "\n",
    "    def record_audio_chunk(self):\n",
    "        \"\"\"Record a chunk of audio\"\"\"\n",
    "        recording = sd.rec(\n",
    "            int(self.sample_rate * self.chunk_duration),\n",
    "            samplerate=self.sample_rate,\n",
    "            channels=1,\n",
    "            dtype='float32'\n",
    "        )\n",
    "        sd.wait()\n",
    "        return torch.tensor(recording.T)  # Convert to tensor and transpose\n",
    "\n",
    "    def translate_audio(self, audio):\n",
    "        \"\"\"Translate audio chunk using the ML model\"\"\"\n",
    "        try:\n",
    "\n",
    "            audio_inputs = self.processor(audios=audio, return_tensors=\"pt\")\n",
    "            sf.write(\"temp.mp3\", audio_inputs, self.sample_rate)\n",
    "            file_input = open(\"./temp.mp3\", \"rb\")\n",
    "            \n",
    "            translated_text = replicate.run(\n",
    "                \"lucataco/seamless_communication:b61de43a89a30bb31baa14ba81647303accb8220975ea91268a447650f013298\",\n",
    "                input={\n",
    "                    \"task_name\": \"S2TT (Speech to Text translation)\",\n",
    "                    \"input_audio\": file_input,\n",
    "                    \"max_input_audio_length\": 60,\n",
    "                    \"target_language_text_only\": \"Spanish\",\n",
    "                }\n",
    "            )\n",
    "\n",
    "            #audio_inputs into a file\n",
    "\n",
    "            # audio_inputs = self.processor(audios=audio, return_tensors=\"pt\")\n",
    "            # output_tokens = self.model.generate(\n",
    "            #     **audio_inputs,\n",
    "            #     tgt_lang=self.target_language,\n",
    "            #     generate_speech=False,\n",
    "            # )\n",
    "            # translated_text = self.processor.decode(\n",
    "            #     output_tokens[0].tolist()[0],\n",
    "            #     skip_special_tokens=True\n",
    "            # )\n",
    "            return translated_text\n",
    "        except Exception as e:\n",
    "            return f\"Translation error: {str(e)}\"\n",
    "\n",
    "    def recording_worker(self):\n",
    "        \"\"\"Worker function to continuously record audio\"\"\"\n",
    "        while self.is_running:\n",
    "            audio = self.record_audio_chunk()\n",
    "            self.audio_queue.put(audio)\n",
    "\n",
    "    def translation_worker(self):\n",
    "        \"\"\"Worker function to process and translate audio chunks\"\"\"\n",
    "        while self.is_running:\n",
    "            if not self.audio_queue.empty():\n",
    "                audio = self.audio_queue.get()\n",
    "                translation = self.translate_audio(audio)\n",
    "                print(f\"\\nTranslation: {translation}\")\n",
    "                self.transcript += translation + \"\\n\"\n",
    "            time.sleep(0.1)  # Small delay to prevent CPU overuse\n",
    "\n",
    "    def start(self):\n",
    "        \"\"\"Start the continuous recording and translation process\"\"\"\n",
    "        self.is_running = True\n",
    "        \n",
    "        # Create and start worker threads\n",
    "        self.record_thread = Thread(target=self.recording_worker)\n",
    "        self.translate_thread = Thread(target=self.translation_worker)\n",
    "        \n",
    "        self.record_thread.start()\n",
    "        self.translate_thread.start()\n",
    "        \n",
    "        print(f\"Started continuous translation to {self.target_language}\")\n",
    "        print(\"Press Ctrl+C to stop...\")\n",
    "\n",
    "    def stop(self):\n",
    "        \"\"\"Stop the continuous recording and translation process\"\"\"\n",
    "        self.is_running = False\n",
    "        self.record_thread.join()\n",
    "        self.translate_thread.join()\n",
    "        print(\"\\nStopped continuous translation\")"
   ]
  },
  {
   "cell_type": "code",
   "execution_count": 4,
   "metadata": {},
   "outputs": [
    {
     "name": "stdout",
     "output_type": "stream",
     "text": [
      "Loading ML models...\n"
     ]
    },
    {
     "data": {
      "application/vnd.jupyter.widget-view+json": {
       "model_id": "b91911e4253f49088ae2b954f55326d0",
       "version_major": 2,
       "version_minor": 0
      },
      "text/plain": [
       "Loading checkpoint shards:   0%|          | 0/2 [00:00<?, ?it/s]"
      ]
     },
     "metadata": {},
     "output_type": "display_data"
    },
    {
     "name": "stdout",
     "output_type": "stream",
     "text": [
      "Models loaded!\n",
      "Started continuous translation to spa\n",
      "Press Ctrl+C to stop...\n"
     ]
    },
    {
     "name": "stderr",
     "output_type": "stream",
     "text": [
      "It is strongly recommended to pass the `sampling_rate` argument to this function. Failing to do so can result in silent errors that might be hard to debug.\n"
     ]
    },
    {
     "name": "stdout",
     "output_type": "stream",
     "text": [
      "\n",
      "Translation: Translation error: dtype must be one of ['float32', 'float64', 'int16', 'int32'] and not 'str448'\n"
     ]
    },
    {
     "name": "stderr",
     "output_type": "stream",
     "text": [
      "It is strongly recommended to pass the `sampling_rate` argument to this function. Failing to do so can result in silent errors that might be hard to debug.\n"
     ]
    },
    {
     "name": "stdout",
     "output_type": "stream",
     "text": [
      "\n",
      "Translation: Translation error: dtype must be one of ['float32', 'float64', 'int16', 'int32'] and not 'str448'\n",
      "\n",
      "Stopped continuous translation\n"
     ]
    }
   ],
   "source": [
    "translator = ContinuousTranslator(\n",
    "    target_language=\"spa\",  # Spanish\n",
    "    chunk_duration=5,       # 5 seconds\n",
    "    sample_rate=16000      # 16kHz\n",
    ")\n",
    "\n",
    "try:\n",
    "    translator.start()\n",
    "    # Keep the main thread running\n",
    "    while True:\n",
    "        time.sleep(1)\n",
    "except KeyboardInterrupt:\n",
    "    translator.stop()"
   ]
  }
 ],
 "metadata": {
  "kernelspec": {
   "display_name": ".venv",
   "language": "python",
   "name": "python3"
  },
  "language_info": {
   "codemirror_mode": {
    "name": "ipython",
    "version": 3
   },
   "file_extension": ".py",
   "mimetype": "text/x-python",
   "name": "python",
   "nbconvert_exporter": "python",
   "pygments_lexer": "ipython3",
   "version": "3.12.4"
  }
 },
 "nbformat": 4,
 "nbformat_minor": 2
}
